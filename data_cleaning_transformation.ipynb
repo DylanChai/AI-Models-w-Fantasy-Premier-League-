{
 "cells": [
  {
   "cell_type": "code",
   "execution_count": 1,
   "metadata": {},
   "outputs": [],
   "source": [
    "import pandas as pd \n",
    "import numpy as np\n",
    "from os.path import dirname, join\n",
    "import os\n",
    "#pd.set_option(\"max_rows\", None)"
   ]
  },
  {
   "cell_type": "code",
   "execution_count": 2,
   "metadata": {},
   "outputs": [],
   "source": [
    "#function to call merged_gw.csv file in every season folder\r\n",
    "def import_merged_gw(season='2020-21'):\r\n",
    "    path = os.getcwd()\r\n",
    "    filename = 'merged_gw.csv'\r\n",
    "    season_path = join(dirname(dirname(\"__file__\")), path, 'data', season, 'gws', filename)\r\n",
    "    \r\n",
    "    return season_path"
   ]
  },
  {
   "cell_type": "code",
   "execution_count": 3,
   "metadata": {},
   "outputs": [],
   "source": [
    "season_latin = ['2016-17', '2017-18', '2018-19', '2019-20', '2020-21'] \r\n",
    "encoding_latin = ['latin-1', 'latin-1', 'latin-1', 'utf-8', 'utf-8']\r\n",
    "\r\n",
    "df = pd.DataFrame()\r\n",
    "for i,j in zip(season_latin, encoding_latin):\r\n",
    "    data = pd.read_csv(import_merged_gw(season=f'{i}'), encoding=f'{j}')\r\n",
    "    data['season'] = i\r\n",
    "    df = df.append(data, ignore_index=True, sort=False)\r\n",
    "\r\n",
    "df = df[['season','name', 'position', 'team', 'assists','bonus','bps','clean_sheets','creativity','element','fixture','goals_conceded','goals_scored','ict_index','influence','kickoff_time','minutes','opponent_team','own_goals','penalties_missed','penalties_saved','red_cards','round','saves','selected','team_a_score','team_h_score','threat','total_points','transfers_balance','transfers_in','transfers_out','value','was_home','yellow_cards','GW']]  "
   ]
  },
  {
   "cell_type": "code",
   "execution_count": 4,
   "metadata": {},
   "outputs": [],
   "source": [
    "def clean_players_name_string(df, col='name'):\r\n",
    "    #replace _ with space in name column\r\n",
    "    df[col] = df[col].str.replace('_', ' ')\r\n",
    "    #remove number in name column\r\n",
    "    df[col] = df[col].str.replace('\\d+', '')\r\n",
    "    #trim name column\r\n",
    "    df[col] = df[col].str.strip()\r\n",
    "\r\n",
    "    return df"
   ]
  },
  {
   "cell_type": "code",
   "execution_count": 5,
   "metadata": {},
   "outputs": [],
   "source": [
    "df = clean_players_name_string(df, col='name')"
   ]
  },
  {
   "cell_type": "code",
   "execution_count": 6,
   "metadata": {},
   "outputs": [],
   "source": [
    "def filter_players_exist_latest(df, col='position'):\r\n",
    "    #fill in null position (data that only available in 20-21 season) into previous seasons. Null meaning that player doesnt exist in latest season\r\n",
    "    df[col] = df.groupby('name')[col].apply(lambda x: x.ffill().bfill())\r\n",
    "    df = df[df[col].notnull()]\r\n",
    "    return df"
   ]
  },
  {
   "cell_type": "code",
   "execution_count": 7,
   "metadata": {},
   "outputs": [],
   "source": [
    "df = filter_players_exist_latest(df, col='position')"
   ]
  },
  {
   "cell_type": "code",
   "execution_count": 8,
   "metadata": {},
   "outputs": [],
   "source": [
    "def get_opponent_team_name(df):\r\n",
    "    path = os.getcwd()\r\n",
    "    filename = 'master_team_list.csv'\r\n",
    "    team_path = join(dirname(dirname(\"__file__\")), path, 'data', filename)\r\n",
    "    df_team = pd.read_csv(team_path)\r\n",
    "\r\n",
    "    #create id column for both df_team and df\r\n",
    "    df['id'] = df['season'].astype(str) + '_' + df['opponent_team'].astype(str)\r\n",
    "    df_team['id'] = df_team['season'].astype(str) + '_' + df_team['team'].astype(str)\r\n",
    "\r\n",
    "    #merge two dfs\r\n",
    "    df = pd.merge(df, df_team, on = 'id', how = 'left')\r\n",
    "\r\n",
    "    #rename column\r\n",
    "    df = df.rename(columns={\"team_name\": \"opp_team_name\"})\r\n",
    "\r\n",
    "    return df"
   ]
  },
  {
   "cell_type": "code",
   "execution_count": 9,
   "metadata": {},
   "outputs": [],
   "source": [
    "df = get_opponent_team_name(df)"
   ]
  },
  {
   "cell_type": "code",
   "execution_count": 10,
   "metadata": {},
   "outputs": [],
   "source": [
    "df = df[['season_x', 'name', 'position', 'team_x', 'assists', 'bonus', 'bps',\r\n",
    "       'clean_sheets', 'creativity', 'element', 'fixture', 'goals_conceded',\r\n",
    "       'goals_scored', 'ict_index', 'influence', 'kickoff_time', 'minutes',\r\n",
    "       'opponent_team', 'opp_team_name', 'own_goals', 'penalties_missed', 'penalties_saved',\r\n",
    "       'red_cards', 'round', 'saves', 'selected', 'team_a_score',\r\n",
    "       'team_h_score', 'threat', 'total_points', 'transfers_balance',\r\n",
    "       'transfers_in', 'transfers_out', 'value', 'was_home', 'yellow_cards',\r\n",
    "       'GW']]"
   ]
  },
  {
   "cell_type": "code",
   "execution_count": 11,
   "metadata": {},
   "outputs": [],
   "source": [
    "df.to_csv('cleaned_merged_seasons.csv', encoding = 'utf-8')"
   ]
  },
  {
   "cell_type": "code",
   "execution_count": null,
   "metadata": {},
   "outputs": [],
   "source": []
  }
 ],
 "metadata": {
  "interpreter": {
   "hash": "49af9312140d3f1f4afbcfd41cf96a636672b0b6cf6a2fba08e296988668b0e3"
  },
  "kernelspec": {
   "display_name": "Python 3.7.7 64-bit ('base': conda)",
   "name": "python3"
  },
  "language_info": {
   "codemirror_mode": {
    "name": "ipython",
    "version": 3
   },
   "file_extension": ".py",
   "mimetype": "text/x-python",
   "name": "python",
   "nbconvert_exporter": "python",
   "pygments_lexer": "ipython3",
   "version": "3.7.7"
  }
 },
 "nbformat": 4,
 "nbformat_minor": 2
}