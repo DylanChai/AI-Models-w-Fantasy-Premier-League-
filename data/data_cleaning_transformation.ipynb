{
 "cells": [
  {
   "cell_type": "code",
   "execution_count": 1,
   "metadata": {},
   "outputs": [],
   "source": [
    "import pandas as pd \n",
    "import numpy as np\n",
    "from os.path import dirname, join\n",
    "import os\n",
    "#pd.set_option(\"max_rows\", None)"
   ]
  },
  {
   "cell_type": "code",
   "execution_count": 2,
   "metadata": {},
   "outputs": [],
   "source": [
    "#function to call merged_gw.csv file in every season folder\r\n",
    "def import_merged_gw(season='2020-21'):\r\n",
    "    path = os.getcwd()\r\n",
    "    filename = 'merged_gw.csv'\r\n",
    "    season_path = join(dirname(dirname(\"__file__\")), path, season, 'gws', filename)\r\n",
    "    \r\n",
    "    return season_path"
   ]
  },
  {
   "cell_type": "code",
   "execution_count": 11,
   "metadata": {},
   "outputs": [],
   "source": [
    "season_latin = ['2016-17', '2017-18', '2018-19', '2019-20', '2020-21'] \r\n",
    "encoding_latin = ['latin-1', 'latin-1', 'latin-1', 'utf-8', 'utf-8']\r\n",
    "\r\n",
    "df = pd.DataFrame()\r\n",
    "for i,j in zip(season_latin, encoding_latin):\r\n",
    "    data = pd.read_csv(import_merged_gw(season=f'{i}'), encoding=f'{j}')\r\n",
    "    data['season'] = i\r\n",
    "    df = df.append(data, ignore_index=True, sort=False)\r\n",
    "\r\n",
    "df = df[['season','name', 'position', 'team', 'assists','bonus','bps','clean_sheets','creativity','element','fixture','goals_conceded','goals_scored','ict_index','influence','kickoff_time','minutes','opponent_team','own_goals','penalties_missed','penalties_saved','red_cards','round','saves','selected','team_a_score','team_h_score','threat','total_points','transfers_balance','transfers_in','transfers_out','value','was_home','yellow_cards','GW']]  "
   ]
  },
  {
   "cell_type": "code",
   "execution_count": 13,
   "metadata": {},
   "outputs": [],
   "source": [
    "#name pattern: \n",
    "# 1617 & 1718 - Abdoulaye_Doucouré\n",
    "# 1819 & 1920 - Abdoulaye_Doucouré_390\n",
    "# 2021 - Abdoulaye Doucouré - final name to display\n",
    "\n",
    "#replace _ with space in name column\n",
    "new_df = df.copy()\n",
    "new_df['name'] = new_df['name'].str.replace('_', ' ')\n",
    "#remove number in name column\n",
    "new_df['name'] = new_df['name'].str.replace('\\d+', '')\n",
    "#trim name column\n",
    "new_df['name'] = new_df['name'].str.strip()"
   ]
  },
  {
   "cell_type": "code",
   "execution_count": 14,
   "metadata": {},
   "outputs": [],
   "source": [
    "#fill in null position (data that only available in 20-21 season) into previous seasons. Null meaning that player doesnt\n",
    "#exist in 20-21 season \n",
    "new_df['position'] = new_df.groupby('name')['position'].apply(lambda x: x.ffill().bfill())"
   ]
  },
  {
   "cell_type": "code",
   "execution_count": 15,
   "metadata": {},
   "outputs": [],
   "source": [
    "clean_df = new_df[new_df['position'].notnull()]"
   ]
  },
  {
   "cell_type": "code",
   "execution_count": 16,
   "metadata": {},
   "outputs": [],
   "source": [
    "#import team master\n",
    "team_master = pd.read_csv('master_team_list.csv')"
   ]
  },
  {
   "cell_type": "code",
   "execution_count": 17,
   "metadata": {},
   "outputs": [
    {
     "name": "stderr",
     "output_type": "stream",
     "text": [
      "C:\\Users\\harinn.hizhairi\\AppData\\Local\\Continuum\\anaconda3\\lib\\site-packages\\ipykernel_launcher.py:1: SettingWithCopyWarning: \n",
      "A value is trying to be set on a copy of a slice from a DataFrame.\n",
      "Try using .loc[row_indexer,col_indexer] = value instead\n",
      "\n",
      "See the caveats in the documentation: https://pandas.pydata.org/pandas-docs/stable/user_guide/indexing.html#returning-a-view-versus-a-copy\n",
      "  \"\"\"Entry point for launching an IPython kernel.\n"
     ]
    }
   ],
   "source": [
    "clean_df['id'] = clean_df['season'].astype(str) + '_' + clean_df['opponent_team'].astype(str)\n",
    "team_master['id'] = team_master['season'].astype(str) + '_' + team_master['team'].astype(str)"
   ]
  },
  {
   "cell_type": "code",
   "execution_count": 18,
   "metadata": {},
   "outputs": [],
   "source": [
    "final_df = pd.merge(clean_df, team_master, on = 'id', how = 'left')"
   ]
  },
  {
   "cell_type": "code",
   "execution_count": 19,
   "metadata": {},
   "outputs": [],
   "source": [
    "final_df = final_df.rename(columns={\"team_name\": \"opp_team_name\"})"
   ]
  },
  {
   "cell_type": "code",
   "execution_count": 20,
   "metadata": {},
   "outputs": [],
   "source": [
    "final_df = final_df[['season_x', 'name', 'position', 'team_x', 'assists', 'bonus', 'bps',\n",
    "       'clean_sheets', 'creativity', 'element', 'fixture', 'goals_conceded',\n",
    "       'goals_scored', 'ict_index', 'influence', 'kickoff_time', 'minutes',\n",
    "       'opponent_team', 'opp_team_name', 'own_goals', 'penalties_missed', 'penalties_saved',\n",
    "       'red_cards', 'round', 'saves', 'selected', 'team_a_score',\n",
    "       'team_h_score', 'threat', 'total_points', 'transfers_balance',\n",
    "       'transfers_in', 'transfers_out', 'value', 'was_home', 'yellow_cards',\n",
    "       'GW']]"
   ]
  },
  {
   "cell_type": "code",
   "execution_count": 21,
   "metadata": {},
   "outputs": [],
   "source": [
    "final_df.to_csv('cleaned_merged_seasons.csv', encoding = 'utf-8')"
   ]
  }
 ],
 "metadata": {
  "interpreter": {
   "hash": "49af9312140d3f1f4afbcfd41cf96a636672b0b6cf6a2fba08e296988668b0e3"
  },
  "kernelspec": {
   "display_name": "Python 3.7.7 64-bit ('base': conda)",
   "name": "python3"
  },
  "language_info": {
   "codemirror_mode": {
    "name": "ipython",
    "version": 3
   },
   "file_extension": ".py",
   "mimetype": "text/x-python",
   "name": "python",
   "nbconvert_exporter": "python",
   "pygments_lexer": "ipython3",
   "version": "3.7.7"
  }
 },
 "nbformat": 4,
 "nbformat_minor": 2
}